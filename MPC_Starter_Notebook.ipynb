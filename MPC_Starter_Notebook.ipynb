{
 "cells": [
  {
   "cell_type": "markdown",
   "id": "ba5db655-0f40-4424-a4f0-ad245c9dbcf7",
   "metadata": {},
   "source": [
    "## ASSIGNMENT-3\n",
    "\n",
    "Student IDs: \n",
    "\n",
    "Names: "
   ]
  },
  {
   "cell_type": "markdown",
   "id": "3586b052-635c-4333-9cd4-cfa011c11d4e",
   "metadata": {},
   "source": [
    "### Instructions\n",
    " * Fill in the student ID and name of the team members in the cell above.\n",
    " * Code must be written in Python in Jupyter Notebooks. We highly recommend using anaconda distribution or at the minimum, virtual environments for this assignment.\n",
    " * You can use the in-built methods and **unless explicitly mentioned**, don't need to code from scratch for this assignment. Make sure your code is modular.\n",
    " * All the visualization should be done inside the notebook unless specified otherwise.\n",
    " * Plagiarism will lead to a straight zero.\n",
    " <!-- * Write a report that briefly describes your approach/algorithm used, your final results and any other findings. -->\n",
    " <!-- * Add any report, graphs, plots and other results files in the results folder. -->\n",
    " * Submit a zip containing this notebook and results folder on Moodle as <team_name\\>.zip. \n",
    " * The deadline is **March 25th, 23:55 IST**. This is a hard deadline, and no submissions will be accepted after this."
   ]
  },
  {
   "cell_type": "markdown",
   "id": "a029c047-9fac-4c66-9e76-dd7f0bf02a67",
   "metadata": {},
   "source": [
    "### SECTION 1: Coding: Sampling based MPC using MPPI update rule"
   ]
  },
  {
   "cell_type": "markdown",
   "id": "e1b1ea6d-592d-4beb-ba90-07a99a9b87bf",
   "metadata": {},
   "source": [
    "In Model Predictive Controls, we use a simplified model of the vehicle to predict trajectories for H timesteps into the future. Each timesteps are separated by dt time interval. Using a unicycle kinematics model of the vehicle, write a Model Predictive Controller with the goal reaching cost function and the following constraints:\n",
    "\n",
    "* Velocity bound constraints\n",
    "* Angular-velocity bound constraints\n",
    "* Acceleration bound constraints\n",
    "* Angular acceleration bound constraints\n",
    "* Lane boundary constraints\n",
    "* Static obstacle avoidance constraints\n",
    "\n",
    "#### Assumptions:\n",
    "* dt = 0.1\n",
    "* maximum velocity (vmax) = $20 m/s$\n",
    "* minimum velocity (vmin) = $0 m/s$\n",
    "* maximum acceleration (amax) = $5 m/s^2$\n",
    "* minimum acceleration (amin) = $−5 m/s^2$\n",
    "* maximum angular-velocity (ωmax) = $0.5 rad/s$\n",
    "* minimum angular-velocity (ωmin) = $−0.5 rad/s$\n",
    "* maximum angular acceleration (αmax) = $0.1 rad/s^2$\n",
    "* minimum angular acceleration (αmin) = $−0.1 rad/s^2$\n",
    "* the agent and the obstacles are represented as circles of radius 2 meters.\n",
    "* the road is vertical, and the right road boundary is at $x = 6$, and the left road boundary is at  $x = −6$.\n",
    "\n",
    "#### Deliverables\n",
    "* Plot the executed velocity, angular velocity, acceleration and angular acceleration curves.\n",
    "\n",
    "Ensure the code is well written and runs if the values of certain variables are changed. We can ask you to explain certain snippets of it during the evaluations. All the plots and visualizations need to have proper titles. The code should run properly even if the values of any parameters are changed.\n",
    "\n",
    "The starter code is given below."
   ]
  },
  {
   "cell_type": "code",
   "execution_count": 2,
   "id": "77f2dd21-5b3d-48be-91b5-e4a4cbb0ae85",
   "metadata": {
    "tags": []
   },
   "outputs": [],
   "source": [
    "from time import time\n",
    "import casadi as ca\n",
    "import numpy as np\n",
    "from casadi import sin, cos, pi\n",
    "import matplotlib.pyplot as plt\n",
    "import ipywidgets as widgets\n",
    "from IPython.display import display\n",
    "from IPython.display import clear_output\n",
    "import os\n",
    "import copy\n",
    "np.set_printoptions(suppress=True)\n",
    "%matplotlib inline"
   ]
  },
  {
   "cell_type": "markdown",
   "id": "ec877331-9dc5-4517-96a4-951131c06e99",
   "metadata": {
    "tags": []
   },
   "source": [
    "## [Documentation](https://web.casadi.org/docs/#document-functionhttps://web.casadi.org/docs/)\n",
    "\n",
    "NLP solvers distributed with CASADI solves a non-linear program in the following form:\n",
    "\n",
    "\n",
    "\\begin{split}\\begin{array}{cc}\n",
    "\\begin{array}{c}\n",
    "\\text{minimize:} \\\\\n",
    "x\n",
    "\\end{array}\n",
    "&\n",
    "f(x,p)\n",
    "\\\\\n",
    "\\begin{array}{c}\n",
    "\\text{subject to:}\n",
    "\\end{array}\n",
    "&\n",
    "\\begin{array}{rcl}\n",
    "  x_{\\textrm{lb}} \\le &  x   & \\le x_{\\textrm{ub}} \\\\\n",
    "  g_{\\textrm{lb}} \\le &g(x,p)& \\le g_{\\textrm{ub}}\n",
    "\\end{array}\n",
    "\\end{array}\\end{split}\n",
    "\n",
    "Here $x$ is the decision variable and $p$ is a known parameter."
   ]
  },
  {
   "cell_type": "markdown",
   "id": "dcfe97f7-68fb-48c2-abc8-29039e2dd8a7",
   "metadata": {
    "tags": []
   },
   "source": [
    "# Helper functions"
   ]
  },
  {
   "cell_type": "code",
   "execution_count": 3,
   "id": "46572174-6804-45b6-bc4f-051fdcf5ee04",
   "metadata": {
    "tags": []
   },
   "outputs": [],
   "source": [
    "def DM2Arr(dm):\n",
    "    return np.array(dm.full())"
   ]
  },
  {
   "cell_type": "code",
   "execution_count": 4,
   "id": "df63f84e-82c6-43bb-9280-e3b0942178ea",
   "metadata": {
    "tags": []
   },
   "outputs": [],
   "source": [
    "def draw_circle(x, y, radius):\n",
    "    th = np.arange(0,2*np.pi,0.01)\n",
    "    xunit = radius * np.cos(th) + x\n",
    "    yunit = radius * np.sin(th) + y\n",
    "    return xunit, yunit  "
   ]
  },
  {
   "cell_type": "code",
   "execution_count": 5,
   "id": "6573181c-b5c5-4206-bfbc-5d94ad0faf47",
   "metadata": {
    "tags": []
   },
   "outputs": [],
   "source": [
    "def draw(agent_list):\n",
    "    for i in range(len(agent_list)):\n",
    "        a = agent_list[i]\n",
    "        # print(a.X0)\n",
    "        x = DM2Arr(a.X0)\n",
    "        u = DM2Arr(a.u0)\n",
    "        g_state = a.state_target #DM2Arr(a.state_target)\n",
    "        if(a.id == 1):\n",
    "            col = 'g'\n",
    "            plt.scatter(g_state[0], g_state[1], marker='x', color='r')\n",
    "            plt.scatter(x[0,1:],x[1,1:], marker='.', color='blue', s=1)            \n",
    "        else:\n",
    "            col = 'r'\n",
    "            plt.scatter(x[0,1:],x[1,1:], marker='.', color=col, s=1)\n",
    "\n",
    "        x_a, y_a = draw_circle(x[0,1], x[1,1], a.radius) \n",
    "        plt.plot(x_a, y_a, col, linewidth=1)\n",
    "\n",
    "\n",
    "        plt.annotate(str(a.id), xy=(x[0,1]+0.1, x[1,1]+1.2), size=7)\n",
    "        \n",
    "        plt.annotate(str(round(u[0,0])), xy=(x[0,1]+0.1, x[1,1]-0.5), size=6)\n",
    "        \n",
    "\n",
    "        plt.plot([(x[0,1]), float(g_state[0])], [x[1,1], float(g_state[1])], linestyle='dotted', c='k')"
   ]
  },
  {
   "cell_type": "markdown",
   "id": "e979eeb4-ba96-427d-807c-9d9d38153e8d",
   "metadata": {
    "tags": []
   },
   "source": [
    "# MPC Class"
   ]
  },
  {
   "cell_type": "code",
   "execution_count": 6,
   "id": "2ff0eedb-9595-466d-9668-5bf6ae654fd8",
   "metadata": {
    "tags": []
   },
   "outputs": [],
   "source": [
    "class Agent:\n",
    "    def __init__(self, agent_id, i_state, g_state, N=50):\n",
    "        self.id = agent_id\n",
    "        self.radius = 2.0\n",
    "        self.i_state = np.array(i_state) # start state\n",
    "        self.g_state = np.array(g_state) # goal state\n",
    "        self.state_init =  copy.deepcopy(self.i_state)  # initial state\n",
    "        self.state_target = copy.deepcopy(self.g_state) # target state\n",
    "        \n",
    "        # state symbolic variables\n",
    "        self.x = ca.SX.sym('x')\n",
    "        self.y = ca.SX.sym('y')\n",
    "        self.theta = ca.SX.sym('theta')\n",
    "        \n",
    "        self.states = ca.vertcat(\n",
    "            self.x,\n",
    "            self.y,\n",
    "            self.theta\n",
    "        )\n",
    "        self.n_states = self.states.numel()\n",
    "\n",
    "        # control symbolic variables\n",
    "        self.v = ca.SX.sym('v')\n",
    "        self.w = ca.SX.sym('w')\n",
    "        self.controls = ca.vertcat(\n",
    "            self.v,\n",
    "            self.w\n",
    "        )\n",
    "        self.n_controls = self.controls.numel()\n",
    "        \n",
    "        self.N = N # planning horizon\n",
    "        \n",
    "        # control bounds\n",
    "        self.v_ub = 20\n",
    "        self.v_lb = 0\n",
    "        self.w_ub = 0.5\n",
    "        self.w_lb = -0.5\n",
    "\n",
    "        # dt\n",
    "        self.dt = 0.05\n",
    "        \n",
    "        # matrix containing all states over all time steps +1 (each column is a state vector)\n",
    "        self.X = ca.SX.sym('X', self.n_states, self.N + 1)\n",
    "        # matrix containing all control actions over all time steps (each column is an action vector)\n",
    "        self.U = ca.SX.sym('U', self.n_controls, self.N)\n",
    "        # coloumn vector for storing initial state and target state\n",
    "        self.P = ca.SX.sym('P', self.n_states + self.n_states)\n",
    "        # state weights matrix (Q_X, Q_Y, Q_THETA)\n",
    "        self.Q_x = 20\n",
    "        self.Q_y = 20\n",
    "        self.Q_theta = 5\n",
    "        self.Q = ca.diagcat(self.Q_x, self.Q_y, self.Q_theta)\n",
    "\n",
    "        # Unicycle model\n",
    "        self.J = ca.vertcat(\n",
    "            ca.horzcat(cos(self.theta), 0),\n",
    "            ca.horzcat(sin(self.theta), 0),\n",
    "            ca.horzcat( 0, 1)\n",
    "        )\n",
    "        # RHS = states + J @ controls * self.dt  # Euler discretization\n",
    "        self.RHS = self.J @ self.controls\n",
    "        # maps controls from [v, w].T to [vx, vy, omega].T\n",
    "        self.f = ca.Function('f', [self.states, self.controls], [self.RHS])\n",
    "\n",
    "        self.OPT_variables = ca.vertcat(\n",
    "            self.X.reshape((-1, 1)),   # Example: 3x11 ---> 33x1 where 3=states, 11=N+1\n",
    "            self.U.reshape((-1, 1))\n",
    "        )\n",
    "\n",
    "        self.u0 = ca.DM.zeros((self.n_controls, self.N))  # initial control\n",
    "        self.X0 = ca.repmat(self.state_init, 1, self.N+1)  # initial state full\n",
    "        self.vl = ca.DM(0) # last velocity\n",
    "        self.wl = ca.DM(0) # last velocity\n",
    "        \n",
    "    def get_goal_cost(self):\n",
    "        pass\n",
    "    \n",
    "    def next_state_constraints(self):\n",
    "        pass\n",
    "\n",
    "    def control_bound_constraints(self):\n",
    "        pass\n",
    "    \n",
    "    def obstacle_constraints(self):\n",
    "        pass\n",
    "\n",
    "    def lane_boundary_constraints(self):\n",
    "        pass\n",
    "    \n",
    "    def acceleration_constraints(self):\n",
    "        pass\n",
    "    \n",
    "    def angular_acceleration_constraints(self):\n",
    "        pass\n",
    "            \n",
    "    def pred_controls(self):\n",
    "        pass"
   ]
  },
  {
   "cell_type": "markdown",
   "id": "c1f1dcc1-db30-4406-a3e9-bdc630e32af2",
   "metadata": {
    "tags": []
   },
   "source": [
    "## Environment"
   ]
  },
  {
   "cell_type": "code",
   "execution_count": 7,
   "id": "f634a987-367f-4e7d-8551-b2a595d1f7c4",
   "metadata": {
    "tags": []
   },
   "outputs": [
    {
     "data": {
      "image/png": "[encoded data removed]",
      "text/plain": [
       "<Figure size 640x480 with 1 Axes>"
      ]
     },
     "metadata": {},
     "output_type": "display_data"
    },
    {
     "data": {
      "text/plain": [
       "[<matplotlib.lines.Line2D at 0x1473e0dd0>]"
      ]
     },
     "execution_count": 7,
     "metadata": {},
     "output_type": "execute_result"
    },
    {
     "data": {
      "image/png": "[encoded data removed]",
      "text/plain": [
       "<Figure size 640x480 with 1 Axes>"
      ]
     },
     "metadata": {},
     "output_type": "display_data"
    }
   ],
   "source": [
    "y_lane = np.arange(-1000,1000)\n",
    "left_lane = -6*np.ones(y_lane.shape)\n",
    "right_lane = 6*np.ones(y_lane.shape)\n",
    "\n",
    "a = Agent(1, [0, -40, np.deg2rad(90)],[0,40,np.deg2rad(90)], 30)\n",
    "obs = [-3.5,0]\n",
    "draw_list = [a]\n",
    "timeout = 10\n",
    "update_y = 0\n",
    "y_l_lim = -10\n",
    "y_u_lim = 40\n",
    "timeout = 10\n",
    "v_a = []\n",
    "v_a.append(a.vl.full()[0,0])\n",
    "while( (ca.norm_2(a.state_init - a.state_target)>=1) and timeout >0):\n",
    "    \n",
    "    clear_output(wait=True)\n",
    "    timeout = timeout - a.dt\n",
    "    a.pred_controls()\n",
    "    a.vl = a.u0[0,0]\n",
    "    a.wl = a.u0[1,0]\n",
    "    a.state_init = a.X0[:,1]\n",
    "    v_a.append(a.vl.full()[0,0])\n",
    "    draw(draw_list)   \n",
    "    obs_x, obs_y = draw_circle(obs[0], obs[1], 2)\n",
    "    plt.plot(obs_x, obs_y)\n",
    "    plt.plot(left_lane,y_lane, 'k', linewidth=1)\n",
    "    plt.plot(right_lane, y_lane, 'k', linewidth=1)\n",
    "    plt.xlim([-50, 50])\n",
    "    plt.ylim([-50, 50])\n",
    "    plt.show()\n",
    "    plt.pause(1e-10)\n",
    "plt.plot(v_a)"
   ]
  },
  {
   "cell_type": "markdown",
   "id": "a2dae0ac-cf84-48aa-82a4-a10f19e4664e",
   "metadata": {},
   "source": [
    "## Show the velocity, angular-velocity, acceleration and angular-acceleration plots"
   ]
  },
  {
   "cell_type": "code",
   "execution_count": null,
   "id": "e0e99f09-dd45-44a8-afa5-dab4cc074887",
   "metadata": {},
   "outputs": [],
   "source": []
  }
 ],
 "metadata": {
  "kernelspec": {
   "display_name": "Python 3 (ipykernel)",
   "language": "python",
   "name": "python3"
  },
  "language_info": {
   "codemirror_mode": {
    "name": "ipython",
    "version": 3
   },
   "file_extension": ".py",
   "mimetype": "text/x-python",
   "name": "python",
   "nbconvert_exporter": "python",
   "pygments_lexer": "ipython3",
   "version": "3.12.1"
  }
 },
 "nbformat": 4,
 "nbformat_minor": 5
}
